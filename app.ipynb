{
  "nbformat": 4,
  "nbformat_minor": 0,
  "metadata": {
    "colab": {
      "name": "app.ipynb",
      "provenance": [],
      "collapsed_sections": []
    },
    "kernelspec": {
      "name": "python3",
      "display_name": "Python 3"
    }
  },
  "cells": [
    {
      "cell_type": "code",
      "metadata": {
        "collapsed": true,
        "jupyter": {
          "source_hidden": false,
          "outputs_hidden": false
        },
        "nteract": {
          "transient": {
            "deleting": false
          }
        },
        "id": "uSvOnOlgOP-P"
      },
      "source": [
        "import landing_zone_detection\n",
        "from landing_zone_detection.data import RandomAerialImageDataGenerator\n",
        "from landing_zone_detection.visualization_utils import *\n",
        "\n",
        "from IPython.display import clear_output, display\n",
        "import ipywidgets"
      ],
      "execution_count": null,
      "outputs": []
    },
    {
      "cell_type": "code",
      "metadata": {
        "id": "6iphHXSbY66W"
      },
      "source": [
        "# initialize the random data generator\n",
        "random_data_generator = RandomAerialImageDataGenerator()"
      ],
      "execution_count": null,
      "outputs": []
    },
    {
      "cell_type": "code",
      "metadata": {
        "id": "EpkG6Se5aFPN"
      },
      "source": [
        "# widgets\n",
        "update_button = ipywidgets.Button(description='UPDATE')\n",
        "output_frame = ipywidgets.Output()\n",
        "output_frame_with_adj_matrix = ipywidgets.Output()\n",
        "output_frame_with_shortest_path = ipywidgets.Output()"
      ],
      "execution_count": null,
      "outputs": []
    },
    {
      "cell_type": "code",
      "metadata": {
        "collapsed": true,
        "jupyter": {
          "source_hidden": false,
          "outputs_hidden": false
        },
        "nteract": {
          "transient": {
            "deleting": false
          }
        },
        "id": "M1ib5-5AOP-q"
      },
      "source": [
        "def update_random_data(unuseful_arg):\n",
        "    global data\n",
        "    # Generate random data.\n",
        "    data = random_data_generator.generate()\n",
        "    # Plot the generated frame.\n",
        "    with output_frame:\n",
        "        clear_output(True)\n",
        "        plot_frame(data.frame)\n",
        "    # Overlay the adjacency matrix on the frame,\n",
        "    # then plot the frame.\n",
        "    with output_frame_with_adj_matrix:\n",
        "        clear_output(True)\n",
        "        plot_frame(\n",
        "            data.frame,\n",
        "            images_to_overlay=[\n",
        "                adj_matrix_to_image(data.adj_matrix)\n",
        "            ]\n",
        "        )\n",
        "    # TODO: Find the landing zone closest to the person\n",
        "    # considering the terrain elevation.\n",
        "    MOCK_SHORTEST_PATH = [(0,0), (0,1), (0,2), (1,2), (2,2), (2, 3)]\n",
        "    shortest_path = MOCK_SHORTEST_PATH\n",
        "    # Overlay the shortest path on the frame,\n",
        "    # then plot the frame.\n",
        "    with output_frame_with_shortest_path:\n",
        "        clear_output(True)\n",
        "        if shortest_path:\n",
        "            plot_frame(\n",
        "                data.frame,\n",
        "                images_to_overlay=[\n",
        "                    node_list_to_image(shortest_path)\n",
        "                ]\n",
        "            )\n",
        "        else:\n",
        "            plot_frame(data.frame)\n",
        "            print('No path to the person!')"
      ],
      "execution_count": null,
      "outputs": []
    },
    {
      "cell_type": "code",
      "metadata": {
        "collapsed": true,
        "jupyter": {
          "source_hidden": false,
          "outputs_hidden": false
        },
        "nteract": {
          "transient": {
            "deleting": false
          }
        },
        "id": "uddMJZkrOP-u"
      },
      "source": [
        "update_button.on_click(update_random_data)"
      ],
      "execution_count": null,
      "outputs": []
    },
    {
      "cell_type": "markdown",
      "metadata": {
        "id": "1gYLqJgWgHYt"
      },
      "source": [
        ""
      ]
    },
    {
      "cell_type": "markdown",
      "metadata": {
        "id": "YzFGm3-ygI7z"
      },
      "source": [
        "### Update the random image."
      ]
    },
    {
      "cell_type": "code",
      "metadata": {
        "id": "d4AKc5nEdg7x"
      },
      "source": [
        "display(update_button)"
      ],
      "execution_count": null,
      "outputs": []
    },
    {
      "cell_type": "markdown",
      "metadata": {
        "id": "UxAID5RwgKLb"
      },
      "source": [
        "### Random Image"
      ]
    },
    {
      "cell_type": "code",
      "metadata": {
        "id": "gaYlnVLdaix3"
      },
      "source": [
        "display(output_frame)"
      ],
      "execution_count": null,
      "outputs": []
    },
    {
      "cell_type": "markdown",
      "metadata": {
        "id": "9T04ow6-gLHB"
      },
      "source": [
        "### Random Image With the Classification of Each Zone"
      ]
    },
    {
      "cell_type": "code",
      "metadata": {
        "id": "YuOVwo11deLe"
      },
      "source": [
        "display(output_frame_with_adj_matrix)"
      ],
      "execution_count": null,
      "outputs": []
    },
    {
      "cell_type": "markdown",
      "metadata": {
        "id": "KamloMSvgL9I"
      },
      "source": [
        "### Random Image With the Shortest Path to the Person"
      ]
    },
    {
      "cell_type": "code",
      "metadata": {
        "id": "x7IpI4LRde5n"
      },
      "source": [
        "display(output_frame_with_shortest_path)"
      ],
      "execution_count": null,
      "outputs": []
    }
  ]
}